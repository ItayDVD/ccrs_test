{
 "cells": [
  {
   "cell_type": "markdown",
   "metadata": {},
   "source": [
    "This was used to test some random stuff, you can skip reading it (or not). I found Jupyter notebook to be extremely convinient.\n",
    "Anyway, this code is very badly organized."
   ]
  },
  {
   "cell_type": "code",
   "execution_count": 66,
   "metadata": {},
   "outputs": [],
   "source": [
    "import glob\n",
    "import os\n",
    "import sys\n",
    "\n",
    "try:\n",
    "    sys.path.append(glob.glob('../carla/dist/carla-*%d.%d-%s.egg' % (\n",
    "        sys.version_info.major,\n",
    "        sys.version_info.minor,\n",
    "        'win-amd64' if os.name == 'nt' else 'linux-x86_64'))[0])\n",
    "except IndexError:\n",
    "    pass\n",
    "\n",
    "import carla\n",
    "import numpy as np\n",
    "import time\n",
    "import random\n",
    "from utility import *\n",
    "\n",
    "client = carla.Client('localhost', 2000)\n",
    "client.set_timeout(30.0)\n",
    "\n",
    "world = client.get_world()\n",
    "\n",
    "actor_list = []"
   ]
  },
  {
   "cell_type": "code",
   "execution_count": 75,
   "metadata": {},
   "outputs": [],
   "source": [
    "\n",
    "# Get map and roads\n",
    "map = world.get_map()\n",
    "roads = map.get_topology()\n",
    "spectator = world.get_spectator()\n",
    "spawn_points = map.get_spawn_points()\n",
    "\n",
    "# Get waypoints\n",
    "distance = 1.0\n",
    "waypoints = map.generate_waypoints(distance)\n",
    "\n",
    "# Visualize\n",
    "for waypoint in waypoints:\n",
    "    world.debug.draw_string(waypoint.transform.location, '0', draw_shadow=False, \n",
    "                            color=carla.Color(255,0,0), life_time=100.0, \n",
    "                            persistent_lines=True)\n",
    "    \n",
    "time.sleep(50)\n"
   ]
  },
  {
   "cell_type": "code",
   "execution_count": null,
   "metadata": {},
   "outputs": [],
   "source": [
    "for i, spawn_point in enumerate(spawn_points):\n",
    "    location = spawn_point.location\n",
    "    print(f\"Spawn point {i+1}: (x={location.x}, y={location.y}, z={location.z})\")"
   ]
  },
  {
   "cell_type": "code",
   "execution_count": 23,
   "metadata": {},
   "outputs": [
    {
     "name": "stdout",
     "output_type": "stream",
     "text": [
      "Location(x=92.388222, y=119.840034, z=0.000000)\n"
     ]
    }
   ],
   "source": [
    "# Visualize lanes using Debug Lines\n",
    "\n",
    "waypoint = random.choice(waypoints)\n",
    "print(waypoint.transform.location)\n",
    "\n",
    "for y in ys:\n",
    "    location = carla.Location(x,y,z=0)\n",
    "    world.debug.draw_string(location, '0', draw_shadow=False, \n",
    "                            color=carla.Color(200,200,0), life_time=50.0, \n",
    "                            persistent_lines=True)\n",
    "    time.sleep(1)\n"
   ]
  },
  {
   "cell_type": "code",
   "execution_count": 139,
   "metadata": {},
   "outputs": [],
   "source": [
    "# Spawn some vehicles and waypoints\n",
    "vehicle_startpoint = carla.Transform(carla.Location(x=-2.03, y= 9.56, z=0.3), \n",
    "                                            carla.Rotation(pitch=0.0, yaw=90.0, roll=0.0))\n",
    "# vehicle_startpoint = carla.Transform(carla.Location(x=-2.03, y= 119.341, z=0.3), \n",
    "#                                             carla.Rotation(pitch=0.0, yaw=90.0, roll=0.0))\n",
    "vehicle = spawn_vehicle(world, vehicle_startpoint)\n",
    "actor_list.append(vehicle)\n",
    "\n"
   ]
  },
  {
   "cell_type": "markdown",
   "metadata": {},
   "source": [
    "Wow! You're reading this! Appreciated."
   ]
  },
  {
   "cell_type": "code",
   "execution_count": 113,
   "metadata": {},
   "outputs": [],
   "source": [
    "# Get first waypoint\n",
    "vehicle_location = vehicle.get_location()\n",
    "vehicle_dimensions = get_vehicle_dimensions(vehicle)\n",
    "forward_vector = vehicle.get_transform().get_forward_vector()\n",
    "\n",
    "first_waypoint_location = vehicle_location + forward_vector * vehicle_dimensions[0]\n",
    "first_waypoint = map.get_waypoint(first_waypoint_location)\n",
    "\n",
    "# Visualize\n",
    "world.debug.draw_point(first_waypoint.transform.location, size=0.5, color=carla.Color(255,0,0), life_time=10.0)\n",
    "world.debug.draw_string(first_waypoint.transform.location, '0', draw_shadow=False, \n",
    "                        color=carla.Color(255,255,255), life_time=10.0, \n",
    "                        persistent_lines=True)\n"
   ]
  },
  {
   "cell_type": "code",
   "execution_count": 154,
   "metadata": {},
   "outputs": [
    {
     "name": "stdout",
     "output_type": "stream",
     "text": [
      "Waypoint 1: (x=-2.029846668243408, y=9.561538696289062, z=0.0). yaw 90.02207946777344\n",
      "Waypoint 2: (x=-2.0302319526672363, y=10.561538696289062, z=0.0). yaw 90.02206420898438\n",
      "Waypoint 3: (x=-2.0306169986724854, y=11.561538696289062, z=0.0). yaw 90.02206420898438\n",
      "Waypoint 4: (x=-2.0310022830963135, y=12.561538696289062, z=0.0). yaw 90.02206420898438\n",
      "Waypoint 5: (x=-2.0313875675201416, y=13.561538696289062, z=0.0). yaw 90.02206420898438\n",
      "Waypoint 6: (x=-2.0317726135253906, y=14.561538696289062, z=0.0). yaw 90.02206420898438\n",
      "Waypoint 7: (x=-2.0321578979492188, y=15.561538696289062, z=0.0). yaw 90.02206420898438\n",
      "Waypoint 8: (x=-2.032543182373047, y=16.561538696289062, z=0.0). yaw 90.02206420898438\n",
      "Waypoint 9: (x=-2.032928466796875, y=17.561538696289062, z=0.0). yaw 90.02206420898438\n",
      "Waypoint 10: (x=-2.033313512802124, y=18.561538696289062, z=0.0). yaw 90.02206420898438\n",
      "Waypoint 11: (x=-2.033698797225952, y=19.561538696289062, z=0.0). yaw 90.02206420898438\n"
     ]
    }
   ],
   "source": [
    "def get_waypoints(vehicle, distance=1.0, num_waypoints=10):\n",
    "    waypoints = []\n",
    "    left_lane_points = []\n",
    "    right_lane_points = []\n",
    "\n",
    "    reverse = False\n",
    "\n",
    "    vehicle_location = vehicle.get_location()\n",
    "    vehicle_dimensions = get_vehicle_dimensions(vehicle)\n",
    "    forward_vector = vehicle.get_transform().get_forward_vector()\n",
    "\n",
    "    first_waypoint_location = vehicle_location\n",
    "    first_waypoint = map.get_waypoint(first_waypoint_location)\n",
    "    waypoints.append(first_waypoint)\n",
    "    left_lane_points.append(first_waypoint.get_left_lane())\n",
    "    right_lane_points.append(first_waypoint.get_right_lane())\n",
    "\n",
    "    if abs(first_waypoint.transform.rotation.yaw - vehicle.get_transform().rotation.yaw) > 45:\n",
    "        reverse = True\n",
    "\n",
    "    current_waypoint = first_waypoint\n",
    "\n",
    "    for _ in range(num_waypoints):\n",
    "        next_waypoint = current_waypoint.previous(distance)[0] if reverse else current_waypoint.next(distance)[0]\n",
    "\n",
    "        if not next_waypoint:\n",
    "            break\n",
    "\n",
    "        waypoints.append(next_waypoint)\n",
    "        current_waypoint = next_waypoint\n",
    "\n",
    "    return waypoints\n",
    "\n",
    "waypoints = get_waypoints(vehicle)\n",
    "for i, waypoint in enumerate(waypoints):\n",
    "    world.debug.draw_point(waypoint.transform.location, size=0.1, color=carla.Color(0, 255, 255), life_time=10.0)\n",
    "    print(f\"Waypoint {i + 1}: (x={waypoint.transform.location.x}, y={waypoint.transform.location.y}, z={waypoint.transform.location.z}). yaw {waypoint.transform.rotation.yaw}\")\n",
    "\n",
    "def get_lane_points(vehicle, waypoints):\n",
    "    left_points = []\n",
    "    right_points = []\n",
    "\n",
    "    vehicle_width = get_vehicle_dimensions(vehicle)[1]/2\n",
    "\n",
    "    for waypoint in waypoints:\n",
    "        location = waypoint.transform.location\n",
    "\n",
    "        left_vector = waypoint.transform.get_left_vector()\n",
    "        right_vector = waypoint.transform.get_left_vector()\n",
    "\n",
    "        left_points.append(location + left_vector*vehicle_width)\n",
    "        right_points.append(location + right_vector*vehicle_width)\n",
    "\n",
    "        \n",
    "\n",
    "\n"
   ]
  },
  {
   "cell_type": "code",
   "execution_count": 150,
   "metadata": {},
   "outputs": [
    {
     "ename": "AttributeError",
     "evalue": "'Waypoint' object has no attribute 'location'",
     "output_type": "error",
     "traceback": [
      "\u001b[1;31m---------------------------------------------------------------------------\u001b[0m",
      "\u001b[1;31mAttributeError\u001b[0m                            Traceback (most recent call last)",
      "\u001b[1;32m~\\AppData\\Local\\Temp\\ipykernel_5072\\1122422875.py\u001b[0m in \u001b[0;36m<module>\u001b[1;34m\u001b[0m\n\u001b[1;32m----> 1\u001b[1;33m \u001b[0mleft_lane_points\u001b[0m\u001b[1;33m[\u001b[0m\u001b[1;36m0\u001b[0m\u001b[1;33m]\u001b[0m\u001b[1;33m.\u001b[0m\u001b[0mlocation\u001b[0m\u001b[1;33m\u001b[0m\u001b[0m\n\u001b[0m",
      "\u001b[1;31mAttributeError\u001b[0m: 'Waypoint' object has no attribute 'location'"
     ]
    }
   ],
   "source": [
    "left_lane_points[0].location"
   ]
  },
  {
   "cell_type": "markdown",
   "metadata": {},
   "source": [
    "You even got this far... Amazing :)"
   ]
  },
  {
   "cell_type": "code",
   "execution_count": 138,
   "metadata": {},
   "outputs": [],
   "source": [
    "# Delete all actors\n",
    "# actor_list.append(vehicle)\n",
    "for actor in actor_list:\n",
    "    actor.destroy()\n",
    "\n",
    "actor_list = []"
   ]
  },
  {
   "cell_type": "code",
   "execution_count": null,
   "metadata": {},
   "outputs": [],
   "source": []
  }
 ],
 "metadata": {
  "kernelspec": {
   "display_name": "Python 3",
   "language": "python",
   "name": "python3"
  },
  "language_info": {
   "codemirror_mode": {
    "name": "ipython",
    "version": 3
   },
   "file_extension": ".py",
   "mimetype": "text/x-python",
   "name": "python",
   "nbconvert_exporter": "python",
   "pygments_lexer": "ipython3",
   "version": "3.7.0"
  }
 },
 "nbformat": 4,
 "nbformat_minor": 2
}
